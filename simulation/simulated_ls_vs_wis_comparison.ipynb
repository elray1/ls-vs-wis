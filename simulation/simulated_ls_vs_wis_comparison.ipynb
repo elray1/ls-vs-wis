{
 "cells": [
  {
   "cell_type": "markdown",
   "metadata": {},
   "source": [
    "# Set up"
   ]
  },
  {
   "cell_type": "code",
   "execution_count": 1,
   "metadata": {},
   "outputs": [
    {
     "name": "stderr",
     "output_type": "stream",
     "text": [
      "/Users/elray/miniconda3/envs/lsvswis/lib/python3.11/site-packages/tqdm/auto.py:21: TqdmWarning: IProgress not found. Please update jupyter and ipywidgets. See https://ipywidgets.readthedocs.io/en/stable/user_install.html\n",
      "  from .autonotebook import tqdm as notebook_tqdm\n"
     ]
    }
   ],
   "source": [
    "# adapted from https://pytorch.org/tutorials/beginner/basics/optimization_tutorial.html\n",
    "\n",
    "import torch\n",
    "from torch import nn\n",
    "from torch import distributions as d\n",
    "from torch.utils.data import Dataset, DataLoader\n",
    "import scipy.stats as sps\n",
    "import numpy as np\n",
    "import pandas as pd\n",
    "import matplotlib.pyplot as plt\n",
    "from tqdm.auto import tqdm\n",
    "\n",
    "device = (\n",
    "    \"cuda\"\n",
    "    if torch.cuda.is_available()\n",
    "    else \"mps\"\n",
    "    if torch.backends.mps.is_available()\n",
    "    else \"cpu\"\n",
    ")\n",
    "\n",
    "\n",
    "# model class for a univariate normal distribution\n",
    "class normModel(nn.Module):\n",
    "    def __init__(self, init_loc=None, init_scale=None):\n",
    "        super().__init__()\n",
    "        if init_loc is not None:\n",
    "            self.loc = nn.Parameter(init_loc)\n",
    "        else: \n",
    "            self.loc = nn.Parameter(torch.randn(1))\n",
    "        \n",
    "        if init_scale is not None:\n",
    "            self.scale = nn.Parameter(init_scale)\n",
    "        else:\n",
    "            self.scale = nn.Parameter(torch.abs(torch.randn(1)))\n",
    "        \n",
    "        self.dist = d.Normal(self.loc, self.scale)\n",
    "\n",
    "\n",
    "# loss functions\n",
    "\n",
    "# nll_loss is not actually used below\n",
    "# def nll_loss(model, x):\n",
    "#     return -torch.sum(model.dist.log_prob(x))\n",
    "\n",
    "\n",
    "q_lvls = np.array([[0.01, 0.025, 0.05, 0.1, 0.15, 0.2, 0.25, 0.3, 0.35, 0.4, 0.45,\n",
    "                    0.5, 0.55, 0.6, 0.65, 0.7, 0.75, 0.8, 0.85, 0.9, 0.95, 0.975, 0.99]])\n",
    "norm_offsets = torch.Tensor(sps.norm.ppf(q_lvls))\n",
    "q_lvls = torch.Tensor(q_lvls)\n",
    "\n",
    "def quantile_loss(model, x):\n",
    "    \"\"\"\n",
    "    adapted from https://pytorch-forecasting.readthedocs.io/en/stable/_modules/pytorch_forecasting/metrics/quantile.html#QuantileLoss\n",
    "    \"\"\"\n",
    "    losses = []\n",
    "    pred = model.loc + model.scale * norm_offsets\n",
    "    errors = torch.unsqueeze(x, -1) - pred\n",
    "    losses = 2 * torch.max((q_lvls - 1) * errors, q_lvls * errors)\n",
    "    return torch.sum(losses)\n",
    "\n",
    "\n",
    "# train model on given data x_train, optimizing loss_fn\n",
    "def train_once(loss_fn, x_train, epochs, learning_rate):\n",
    "    model = normModel(\n",
    "        init_loc = torch.mean(x_train),\n",
    "        init_scale = torch.std(x_train, dim=None, correction=0)\n",
    "    )\n",
    "    \n",
    "    optimizer = torch.optim.Adam(model.parameters(), lr=learning_rate)\n",
    "    \n",
    "    for epoch in range(epochs):\n",
    "        loss = loss_fn(model, x_train)\n",
    "        \n",
    "        # Backpropagation\n",
    "        loss.backward()\n",
    "        \n",
    "        # Clear gradients after each epoch\n",
    "        optimizer.step()\n",
    "        optimizer.zero_grad()\n",
    "        model.zero_grad()\n",
    "    \n",
    "    return model.loc.item(), model.scale.item()\n",
    "\n",
    "\n",
    "# simulate data from dgp and get MLE's along with params from optimizing WIS\n",
    "def do_one_replicate(dgp, n_train, epochs, learning_rate, replicate):\n",
    "    x_train = dgp.sample([n_train])\n",
    "    results = {'replicate': replicate}\n",
    "    for loss in ['log', 'quantile']:\n",
    "        if loss == 'log':\n",
    "            loc_hat = torch.mean(x_train).detach().numpy()\n",
    "            scale_hat = torch.std(x_train, dim=None, correction=0).detach().numpy()\n",
    "        else:\n",
    "            loss_fn = quantile_loss\n",
    "            loc_hat, scale_hat = train_once(loss_fn, x_train, epochs, learning_rate)\n",
    "        \n",
    "        results[f'{loss}_loc'] = loc_hat\n",
    "        results[f'{loss}_scale'] = scale_hat\n",
    "    \n",
    "    return results\n"
   ]
  },
  {
   "cell_type": "markdown",
   "metadata": {},
   "source": [
    "# Normal(0, 1) data generating process"
   ]
  },
  {
   "cell_type": "code",
   "execution_count": 2,
   "metadata": {},
   "outputs": [
    {
     "name": "stderr",
     "output_type": "stream",
     "text": [
      "100%|██████████| 1000/1000 [04:05<00:00,  4.07it/s]\n"
     ]
    },
    {
     "data": {
      "text/plain": [
       "-0.005492362290620804"
      ]
     },
     "execution_count": 2,
     "metadata": {},
     "output_type": "execute_result"
    }
   ],
   "source": [
    "sim_results = [\n",
    "    do_one_replicate(\n",
    "        dgp=d.Normal(loc=0.0, scale=1.0),\n",
    "        n_train=20,\n",
    "        epochs=200, learning_rate=1e-3,\n",
    "        replicate=i\n",
    "    ) for i in tqdm(range(1000))\n",
    "]\n",
    "\n",
    "results_df = pd.DataFrame.from_records(sim_results)\n",
    "results_df['scale_diff'] = results_df['log_scale'] - results_df['quantile_scale']\n",
    "np.mean(results_df['scale_diff'])"
   ]
  },
  {
   "cell_type": "code",
   "execution_count": 3,
   "metadata": {},
   "outputs": [
    {
     "data": {
      "text/plain": [
       "<Axes: >"
      ]
     },
     "execution_count": 3,
     "metadata": {},
     "output_type": "execute_result"
    },
    {
     "data": {
      "image/png": "[encoded data removed]",
      "text/plain": [
       "<Figure size 640x480 with 1 Axes>"
      ]
     },
     "metadata": {},
     "output_type": "display_data"
    }
   ],
   "source": [
    "results_df['scale_diff'].hist()"
   ]
  },
  {
   "cell_type": "markdown",
   "metadata": {},
   "source": [
    "- The mean difference of scale estimates from the two procedures is about -0.005, indicating that the two estimates of scale tend to be very similar, but if anything MLEs tend to be smaller.\n",
    "- The distribution of the scale estimate differences is skewed slightly to the right"
   ]
  },
  {
   "cell_type": "markdown",
   "metadata": {},
   "source": [
    "# LogNormal(0, 1) data generating process"
   ]
  },
  {
   "cell_type": "code",
   "execution_count": 4,
   "metadata": {},
   "outputs": [
    {
     "name": "stderr",
     "output_type": "stream",
     "text": [
      "100%|██████████| 1000/1000 [02:59<00:00,  5.58it/s]\n"
     ]
    },
    {
     "data": {
      "text/plain": [
       "0.12308097150921822"
      ]
     },
     "execution_count": 4,
     "metadata": {},
     "output_type": "execute_result"
    }
   ],
   "source": [
    "lognorm_sim_results = [\n",
    "    do_one_replicate(\n",
    "        dgp=d.log_normal.LogNormal(loc=0.0, scale=1.0),\n",
    "        n_train=20,\n",
    "        epochs=200, learning_rate=1e-3,\n",
    "        replicate=i\n",
    "    ) for i in tqdm(range(1000))\n",
    "]\n",
    "\n",
    "lognorm_results_df = pd.DataFrame.from_records(lognorm_sim_results)\n",
    "lognorm_results_df['scale_diff'] = lognorm_results_df['log_scale'] - lognorm_results_df['quantile_scale']\n",
    "np.mean(lognorm_results_df['scale_diff'])"
   ]
  },
  {
   "cell_type": "code",
   "execution_count": 5,
   "metadata": {},
   "outputs": [
    {
     "data": {
      "image/png": "[encoded data removed]",
      "text/plain": [
       "<Figure size 640x480 with 1 Axes>"
      ]
     },
     "metadata": {},
     "output_type": "display_data"
    }
   ],
   "source": [
    "lognorm_results_df['scale_diff'].hist()\n",
    "plt.show()"
   ]
  },
  {
   "cell_type": "markdown",
   "metadata": {},
   "source": [
    "- here, the estimates of scale based on maximum likelihood tend to be larger than the estimates of scale from WIS\n",
    "- the distribution of differences in scale estimates is bimodal and skewed left.  pretty interesting!"
   ]
  }
 ],
 "metadata": {
  "kernelspec": {
   "display_name": "lsvswis",
   "language": "python",
   "name": "python3"
  },
  "language_info": {
   "codemirror_mode": {
    "name": "ipython",
    "version": 3
   },
   "file_extension": ".py",
   "mimetype": "text/x-python",
   "name": "python",
   "nbconvert_exporter": "python",
   "pygments_lexer": "ipython3",
   "version": "3.11.9"
  }
 },
 "nbformat": 4,
 "nbformat_minor": 2
}
